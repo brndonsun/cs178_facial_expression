{
 "cells": [
  {
   "cell_type": "markdown",
   "metadata": {},
   "source": [
    "## Utilizing Convolutional Neural Networks to Predict Emotions Through Visual Cues in Facial Recognition"
   ]
  },
  {
   "cell_type": "code",
   "execution_count": null,
   "metadata": {},
   "outputs": [],
   "source": [
    "from sklearn.metrics import accuracy_score"
   ]
  },
  {
   "cell_type": "code",
   "execution_count": 3,
   "metadata": {},
   "outputs": [],
   "source": [
    "\n",
    "from sklearn.neural_network import MLPClassifier\n",
    "from sklearn.model_selection import train_test_split\n",
    "from sklearn.metrics import accuracy_score\n",
    "import numpy as np\n",
    "import matplotlib.pyplot as plt\n",
    "from data_load import convert_data"
   ]
  },
  {
   "cell_type": "code",
   "execution_count": 4,
   "metadata": {},
   "outputs": [
    {
     "ename": "IndexError",
     "evalue": "index 0 is out of bounds for axis 0 with size 0",
     "output_type": "error",
     "traceback": [
      "\u001b[31m---------------------------------------------------------------------------\u001b[39m",
      "\u001b[31mIndexError\u001b[39m                                Traceback (most recent call last)",
      "\u001b[36mCell\u001b[39m\u001b[36m \u001b[39m\u001b[32mIn[4]\u001b[39m\u001b[32m, line 2\u001b[39m\n\u001b[32m      1\u001b[39m seed = \u001b[32m42\u001b[39m\n\u001b[32m----> \u001b[39m\u001b[32m2\u001b[39m images, labels, classes = \u001b[43mconvert_data\u001b[49m\u001b[43m(\u001b[49m\u001b[43m)\u001b[49m\n\u001b[32m      3\u001b[39m Xtrain, Xval, Ytrain, Yval = train_test_split(images, labels, test_size=\u001b[32m0.2\u001b[39m, random_state=seed)\n\u001b[32m      4\u001b[39m \u001b[38;5;28mprint\u001b[39m(Xtrain.shape)\n",
      "\u001b[36mFile \u001b[39m\u001b[32mc:\\Users\\brand\\OneDrive\\Desktop\\CS178\\final_project\\cs178_facial_expression\\data_load.py:46\u001b[39m, in \u001b[36mconvert_data\u001b[39m\u001b[34m()\u001b[39m\n\u001b[32m     43\u001b[39m new_df = df[df[\u001b[33m'\u001b[39m\u001b[33mfilepath\u001b[39m\u001b[33m'\u001b[39m] == image_filepath]\n\u001b[32m     45\u001b[39m \u001b[38;5;66;03m# Extract the emotion index\u001b[39;00m\n\u001b[32m---> \u001b[39m\u001b[32m46\u001b[39m emotion = \u001b[43mnew_df\u001b[49m\u001b[43m[\u001b[49m\u001b[33;43m'\u001b[39;49m\u001b[33;43memotion\u001b[39;49m\u001b[33;43m'\u001b[39;49m\u001b[43m]\u001b[49m\u001b[43m.\u001b[49m\u001b[43mvalues\u001b[49m\u001b[43m[\u001b[49m\u001b[32;43m0\u001b[39;49m\u001b[43m]\u001b[49m  \u001b[38;5;66;03m# Get the emotion value\u001b[39;00m\n\u001b[32m     47\u001b[39m emotion_index = label_encoder.transform([emotion])[\u001b[32m0\u001b[39m]  \u001b[38;5;66;03m# Get the encoded index of the emotion\u001b[39;00m\n\u001b[32m     48\u001b[39m label_out.append(emotion_index)\n",
      "\u001b[31mIndexError\u001b[39m: index 0 is out of bounds for axis 0 with size 0"
     ]
    }
   ],
   "source": [
    "seed = 42\n",
    "images, labels, classes = convert_data()\n",
    "Xtrain, Xval, Ytrain, Yval = train_test_split(images, labels, test_size=0.2, random_state=seed)\n",
    "print(Xtrain.shape)\n"
   ]
  },
  {
   "cell_type": "code",
   "execution_count": null,
   "metadata": {},
   "outputs": [],
   "source": []
  },
  {
   "cell_type": "code",
   "execution_count": null,
   "metadata": {},
   "outputs": [],
   "source": [
    "learner = CNNClassifier()\n",
    "learner.fit(Xtrain, Ytrain)\n",
    "\n",
    "Ypred_tr = learner.predict(Xtrain)\n",
    "Yerror_tr = 1 - accuracy_score(Ypred_tr, Ytrain)\n",
    "\n",
    "Ypred_val = learner.predict(Xval)\n",
    "Yerror_val = 1 - accuracy_score(Ypred_val, Yval)\n",
    "\n",
    "plt.plot(Yerror_tr, Yerror_val)\n",
    "plt.legend()"
   ]
  }
 ],
 "metadata": {
  "kernelspec": {
   "display_name": "venv",
   "language": "python",
   "name": "python3"
  },
  "language_info": {
   "codemirror_mode": {
    "name": "ipython",
    "version": 3
   },
   "file_extension": ".py",
   "mimetype": "text/x-python",
   "name": "python",
   "nbconvert_exporter": "python",
   "pygments_lexer": "ipython3",
   "version": "3.12.2"
  }
 },
 "nbformat": 4,
 "nbformat_minor": 2
}
